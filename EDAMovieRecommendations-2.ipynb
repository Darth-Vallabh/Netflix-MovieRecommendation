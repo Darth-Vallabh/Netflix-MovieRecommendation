{
  "cells": [
    {
      "cell_type": "code",
      "execution_count": 1,
      "metadata": {
        "colab": {
          "base_uri": "https://localhost:8080/"
        },
        "id": "CrxblLpmdmJU",
        "outputId": "b7ec8eef-ca1f-4fd9-c0cc-19660d73d370"
      },
      "outputs": [
        {
          "output_type": "stream",
          "name": "stdout",
          "text": [
            "Collecting scikit-surprise\n",
            "  Downloading scikit_surprise-1.1.4.tar.gz (154 kB)\n",
            "\u001b[?25l     \u001b[90m━━━━━━━━━━━━━━━━━━━━━━━━━━━━━━━━━━━━━━━━\u001b[0m \u001b[32m0.0/154.4 kB\u001b[0m \u001b[31m?\u001b[0m eta \u001b[36m-:--:--\u001b[0m\r\u001b[2K     \u001b[91m━━━━━━━━━━━━━━━━━━━━━━━━━━━━━━━━━━━━━━━\u001b[0m\u001b[91m╸\u001b[0m \u001b[32m153.6/154.4 kB\u001b[0m \u001b[31m7.5 MB/s\u001b[0m eta \u001b[36m0:00:01\u001b[0m\r\u001b[2K     \u001b[90m━━━━━━━━━━━━━━━━━━━━━━━━━━━━━━━━━━━━━━━━\u001b[0m \u001b[32m154.4/154.4 kB\u001b[0m \u001b[31m3.8 MB/s\u001b[0m eta \u001b[36m0:00:00\u001b[0m\n",
            "\u001b[?25h  Installing build dependencies ... \u001b[?25l\u001b[?25hdone\n",
            "  Getting requirements to build wheel ... \u001b[?25l\u001b[?25hdone\n",
            "  Preparing metadata (pyproject.toml) ... \u001b[?25l\u001b[?25hdone\n",
            "Requirement already satisfied: joblib>=1.2.0 in /usr/local/lib/python3.10/dist-packages (from scikit-surprise) (1.4.2)\n",
            "Requirement already satisfied: numpy>=1.19.5 in /usr/local/lib/python3.10/dist-packages (from scikit-surprise) (1.26.4)\n",
            "Requirement already satisfied: scipy>=1.6.0 in /usr/local/lib/python3.10/dist-packages (from scikit-surprise) (1.13.1)\n",
            "Building wheels for collected packages: scikit-surprise\n",
            "  Building wheel for scikit-surprise (pyproject.toml) ... \u001b[?25l\u001b[?25hdone\n",
            "  Created wheel for scikit-surprise: filename=scikit_surprise-1.1.4-cp310-cp310-linux_x86_64.whl size=2357271 sha256=a9efd9af79a65f05d05fd945ec533d602702b0444295981d1aa0b3060c8b34a8\n",
            "  Stored in directory: /root/.cache/pip/wheels/4b/3f/df/6acbf0a40397d9bf3ff97f582cc22fb9ce66adde75bc71fd54\n",
            "Successfully built scikit-surprise\n",
            "Installing collected packages: scikit-surprise\n",
            "Successfully installed scikit-surprise-1.1.4\n"
          ]
        }
      ],
      "source": [
        "!pip install scikit-surprise"
      ]
    },
    {
      "cell_type": "code",
      "execution_count": 2,
      "metadata": {
        "id": "uLgqRM5YdoHz"
      },
      "outputs": [],
      "source": [
        "import warnings\n",
        "warnings.filterwarnings('ignore')\n",
        "import numpy as np\n",
        "import pandas as pd\n",
        "import matplotlib.pyplot as plt\n",
        "\n",
        "import math\n",
        "import seaborn as sns\n",
        "from surprise import Reader, Dataset, SVD\n",
        "from surprise.model_selection import cross_validate\n",
        "import os"
      ]
    },
    {
      "cell_type": "code",
      "execution_count": 3,
      "metadata": {
        "colab": {
          "base_uri": "https://localhost:8080/"
        },
        "id": "Qn_jt7Jzdzke",
        "outputId": "895421a4-d2f1-4f2d-8b03-5ad8e711c430"
      },
      "outputs": [
        {
          "output_type": "stream",
          "name": "stderr",
          "text": [
            "Downloading...\n",
            "From (original): https://drive.google.com/uc?id=1-vElZA5bxPzKiq41wwpM7H8LbSFuIWiC\n",
            "From (redirected): https://drive.google.com/uc?id=1-vElZA5bxPzKiq41wwpM7H8LbSFuIWiC&confirm=t&uuid=81a7d9a1-14ca-49da-bf87-af238bcb3132\n",
            "To: /content/combined_data_1.txt\n",
            "100%|██████████| 495M/495M [00:07<00:00, 65.5MB/s]\n"
          ]
        },
        {
          "output_type": "stream",
          "name": "stdout",
          "text": [
            "   Cust_Id  Rating\n",
            "0       1:     NaN\n",
            "1  1488844     3.0\n",
            "2   822109     5.0\n",
            "3   885013     4.0\n",
            "4    30878     4.0\n"
          ]
        }
      ],
      "source": [
        "import gdown\n",
        "import pandas as pd\n",
        "\n",
        "# File ID from Google Drive\n",
        "file_url = 'https://drive.google.com/uc?id=1-vElZA5bxPzKiq41wwpM7H8LbSFuIWiC'\n",
        "output_file = 'combined_data_1.txt'\n",
        "\n",
        "# Download the file\n",
        "gdown.download(file_url, output_file, quiet=False)\n",
        "\n",
        "# Load the data\n",
        "data = pd.read_csv(\n",
        "    output_file,\n",
        "    header=None,\n",
        "    names=['Cust_Id', 'Rating'],\n",
        "    usecols=[0, 1]\n",
        ")\n",
        "\n",
        "# Convert it to a DataFrame\n",
        "df = pd.DataFrame(data)\n",
        "\n",
        "# Display the first few rows to confirm the structure\n",
        "print(df.head())"
      ]
    },
    {
      "cell_type": "code",
      "execution_count": 4,
      "metadata": {
        "colab": {
          "base_uri": "https://localhost:8080/"
        },
        "id": "OsRDuhwoheD6",
        "outputId": "530b436e-3076-4d8d-8155-a473cd0fb981"
      },
      "outputs": [
        {
          "output_type": "stream",
          "name": "stdout",
          "text": [
            "Dataset Info:\n",
            "<class 'pandas.core.frame.DataFrame'>\n",
            "RangeIndex: 24058263 entries, 0 to 24058262\n",
            "Data columns (total 2 columns):\n",
            " #   Column   Dtype  \n",
            "---  ------   -----  \n",
            " 0   Cust_Id  object \n",
            " 1   Rating   float64\n",
            "dtypes: float64(1), object(1)\n",
            "memory usage: 367.1+ MB\n",
            "None\n",
            "\n",
            "Dataset Description:\n",
            "             Rating\n",
            "count  2.405376e+07\n",
            "mean   3.599634e+00\n",
            "std    1.086118e+00\n",
            "min    1.000000e+00\n",
            "25%    3.000000e+00\n",
            "50%    4.000000e+00\n",
            "75%    4.000000e+00\n",
            "max    5.000000e+00\n"
          ]
        }
      ],
      "source": [
        "# Basic information\n",
        "print(\"Dataset Info:\")\n",
        "print(df.info())\n",
        "\n",
        "# Basic statistics\n",
        "print(\"\\nDataset Description:\")\n",
        "print(df.describe())"
      ]
    },
    {
      "cell_type": "code",
      "execution_count": 5,
      "metadata": {
        "colab": {
          "base_uri": "https://localhost:8080/"
        },
        "id": "-X_zdzuShk-N",
        "outputId": "106f844e-00d6-4ecb-f3ce-07245f30c0b7"
      },
      "outputs": [
        {
          "output_type": "stream",
          "name": "stdout",
          "text": [
            "\n",
            "Missing Values:\n",
            "Cust_Id       0\n",
            "Rating     4499\n",
            "dtype: int64\n",
            "\n",
            "Unique Values:\n",
            "Unique Customer IDs: 475257\n",
            "Unique Ratings: 5\n"
          ]
        }
      ],
      "source": [
        "# Count missing values per column\n",
        "print(\"\\nMissing Values:\")\n",
        "print(df.isnull().sum())\n",
        "\n",
        "# Unique values in each column\n",
        "print(\"\\nUnique Values:\")\n",
        "print(f\"Unique Customer IDs: {df['Cust_Id'].nunique()}\")\n",
        "print(f\"Unique Ratings: {df['Rating'].nunique()}\")"
      ]
    },
    {
      "cell_type": "code",
      "execution_count": 6,
      "metadata": {
        "colab": {
          "base_uri": "https://localhost:8080/"
        },
        "id": "tXTh3W80hn33",
        "outputId": "c8fed439-ea1a-43c5-c123-c7c65929b496"
      },
      "outputs": [
        {
          "output_type": "stream",
          "name": "stdout",
          "text": [
            "\n",
            "Movie Separators (First Few):\n",
            "     Cust_Id  Rating\n",
            "0         1:     NaN\n",
            "548       2:     NaN\n",
            "694       3:     NaN\n",
            "2707      4:     NaN\n",
            "2850      5:     NaN\n"
          ]
        }
      ],
      "source": [
        "# Identify rows where Rating is NaN (likely indicating a movie ID row)\n",
        "movie_separators = df[df['Rating'].isna()]\n",
        "\n",
        "# Display the first few movie separators\n",
        "print(\"\\nMovie Separators (First Few):\")\n",
        "print(movie_separators.head())"
      ]
    },
    {
      "cell_type": "code",
      "execution_count": 7,
      "metadata": {
        "colab": {
          "base_uri": "https://localhost:8080/",
          "height": 564
        },
        "id": "8kcFUSxxhq4x",
        "outputId": "6e05ac1d-098a-4149-848e-f8c3f12e9430"
      },
      "outputs": [
        {
          "output_type": "display_data",
          "data": {
            "text/plain": [
              "<Figure size 800x600 with 1 Axes>"
            ],
            "image/png": "[encoded data removed]"
          },
          "metadata": {}
        }
      ],
      "source": [
        "import matplotlib.pyplot as plt\n",
        "import seaborn as sns\n",
        "\n",
        "# Filter out movie separator rows\n",
        "ratings_only = df.dropna()\n",
        "\n",
        "# Plot distribution of ratings\n",
        "plt.figure(figsize=(8, 6))\n",
        "sns.histplot(ratings_only['Rating'], bins=5, kde=False)\n",
        "plt.title('Distribution of Ratings')\n",
        "plt.xlabel('Rating')\n",
        "plt.ylabel('Count')\n",
        "plt.show()"
      ]
    },
    {
      "cell_type": "code",
      "execution_count": 8,
      "metadata": {
        "colab": {
          "base_uri": "https://localhost:8080/",
          "height": 751
        },
        "id": "uZm7XXkChtb2",
        "outputId": "10a59c05-7157-4392-95e1-a881d3e5bf3b"
      },
      "outputs": [
        {
          "output_type": "stream",
          "name": "stdout",
          "text": [
            "\n",
            "Ratings per Customer Statistics:\n",
            "count    470758.000000\n",
            "mean         51.095816\n",
            "std          74.405055\n",
            "min           1.000000\n",
            "25%           8.000000\n",
            "50%          24.000000\n",
            "75%          64.000000\n",
            "max        4467.000000\n",
            "Name: count, dtype: float64\n"
          ]
        },
        {
          "output_type": "display_data",
          "data": {
            "text/plain": [
              "<Figure size 1000x600 with 1 Axes>"
            ],
            "image/png": "[encoded data removed]"
          },
          "metadata": {}
        }
      ],
      "source": [
        "# Count ratings per customer\n",
        "ratings_per_customer = ratings_only['Cust_Id'].value_counts()\n",
        "\n",
        "# Display basic statistics\n",
        "print(\"\\nRatings per Customer Statistics:\")\n",
        "print(ratings_per_customer.describe())\n",
        "\n",
        "# Plot distribution of ratings per customer\n",
        "plt.figure(figsize=(10, 6))\n",
        "sns.histplot(ratings_per_customer, bins=50, kde=True)\n",
        "plt.title('Distribution of Ratings per Customer')\n",
        "plt.xlabel('Number of Ratings')\n",
        "plt.ylabel('Frequency')\n",
        "plt.yscale('log')  # Log scale to handle skewness\n",
        "plt.show()"
      ]
    },
    {
      "cell_type": "code",
      "execution_count": 9,
      "metadata": {
        "colab": {
          "base_uri": "https://localhost:8080/"
        },
        "id": "e5HZaU0sd1X7",
        "outputId": "06cdd980-b8ba-4e81-e846-e83f8b4d6889"
      },
      "outputs": [
        {
          "output_type": "stream",
          "name": "stderr",
          "text": [
            "Downloading...\n",
            "From: https://drive.google.com/uc?id=1LNdh92ktYJC4JlYFDD0E5rkNDdl4_hGp\n",
            "To: /content/movie_titles.csv\n",
            "100%|██████████| 578k/578k [00:00<00:00, 41.9MB/s]"
          ]
        },
        {
          "output_type": "stream",
          "name": "stdout",
          "text": [
            "Movie Titles Dataset:\n",
            "            Year                          Name\n",
            "Movie_Id                                      \n",
            "1         2003.0               Dinosaur Planet\n",
            "2         2004.0    Isle of Man TT 2004 Review\n",
            "3         1997.0                     Character\n",
            "4         1994.0  Paula Abdul's Get Up & Dance\n",
            "5         2004.0      The Rise and Fall of ECW\n"
          ]
        },
        {
          "output_type": "stream",
          "name": "stderr",
          "text": [
            "\n"
          ]
        }
      ],
      "source": [
        "import pandas as pd\n",
        "import gdown\n",
        "\n",
        "# Define the file URL and output filename\n",
        "file_url = 'https://drive.google.com/uc?id=1LNdh92ktYJC4JlYFDD0E5rkNDdl4_hGp'\n",
        "output_file = 'movie_titles.csv'\n",
        "\n",
        "# Download the file\n",
        "gdown.download(file_url, output_file, quiet=False)\n",
        "\n",
        "# Load the Movie Titles dataset\n",
        "df_title = pd.read_csv(\n",
        "    output_file,\n",
        "    encoding='ISO-8859-1',\n",
        "    header=None,\n",
        "    usecols=[0, 1, 2],\n",
        "    names=['Movie_Id', 'Year', 'Name']\n",
        ")\n",
        "df_title.set_index('Movie_Id', inplace=True)\n",
        "\n",
        "# Display the first few rows of the movie titles dataset\n",
        "print(\"Movie Titles Dataset:\")\n",
        "print(df_title.head(5))"
      ]
    },
    {
      "cell_type": "code",
      "execution_count": 10,
      "metadata": {
        "colab": {
          "base_uri": "https://localhost:8080/"
        },
        "id": "IQG-mLGMiFoE",
        "outputId": "7b4fda65-94bb-4794-da9f-feb30bd8c499"
      },
      "outputs": [
        {
          "output_type": "stream",
          "name": "stdout",
          "text": [
            "Dataset Info:\n",
            "<class 'pandas.core.frame.DataFrame'>\n",
            "Index: 17770 entries, 1 to 17770\n",
            "Data columns (total 2 columns):\n",
            " #   Column  Non-Null Count  Dtype  \n",
            "---  ------  --------------  -----  \n",
            " 0   Year    17763 non-null  float64\n",
            " 1   Name    17770 non-null  object \n",
            "dtypes: float64(1), object(1)\n",
            "memory usage: 416.5+ KB\n",
            "None\n",
            "\n",
            "Dataset Description:\n",
            "               Year\n",
            "count  17763.000000\n",
            "mean    1990.263694\n",
            "std       16.507891\n",
            "min     1896.000000\n",
            "25%     1985.000000\n",
            "50%     1997.000000\n",
            "75%     2002.000000\n",
            "max     2005.000000\n"
          ]
        }
      ],
      "source": [
        "# Basic information\n",
        "print(\"Dataset Info:\")\n",
        "print(df_title.info())\n",
        "\n",
        "# Basic statistics\n",
        "print(\"\\nDataset Description:\")\n",
        "print(df_title.describe())"
      ]
    },
    {
      "cell_type": "code",
      "execution_count": 11,
      "metadata": {
        "colab": {
          "base_uri": "https://localhost:8080/"
        },
        "id": "ejlaHwreiK-R",
        "outputId": "d7df014b-f4b5-4a9b-a6be-f3ea8d51ae85"
      },
      "outputs": [
        {
          "output_type": "stream",
          "name": "stdout",
          "text": [
            "\n",
            "Missing Values:\n",
            "Year    7\n",
            "Name    0\n",
            "dtype: int64\n"
          ]
        }
      ],
      "source": [
        "# Count missing values per column\n",
        "print(\"\\nMissing Values:\")\n",
        "print(df_title.isnull().sum())"
      ]
    },
    {
      "cell_type": "code",
      "execution_count": 12,
      "metadata": {
        "colab": {
          "base_uri": "https://localhost:8080/"
        },
        "id": "CvqGS_8KiNEY",
        "outputId": "525893b9-6f64-4df3-e603-7e9308c3ac54"
      },
      "outputs": [
        {
          "output_type": "stream",
          "name": "stdout",
          "text": [
            "\n",
            "Unique Values:\n",
            "Unique Years: 94\n",
            "Unique Titles: 17297\n",
            "\n",
            "Duplicate Titles:\n",
            "            Year                                Name\n",
            "Movie_Id                                            \n",
            "305       1996.0                                Jack\n",
            "379       1996.0                          Crash Dive\n",
            "1015      1996.0                           Dr. Quinn\n",
            "1260      1999.0  Journey to the Center of the Earth\n",
            "1505      1964.0                              Hamlet\n",
            "...          ...                                 ...\n",
            "17658     1994.0                           The Chase\n",
            "17685     1988.0                               Alice\n",
            "17704     1999.0                               Taboo\n",
            "17721     1998.0                     The Love Letter\n",
            "17730     1958.0                            The Blob\n",
            "\n",
            "[473 rows x 2 columns]\n"
          ]
        }
      ],
      "source": [
        "# Unique values in each column\n",
        "print(\"\\nUnique Values:\")\n",
        "print(f\"Unique Years: {df_title['Year'].nunique()}\")\n",
        "print(f\"Unique Titles: {df_title['Name'].nunique()}\")\n",
        "\n",
        "# Check for duplicate movie names\n",
        "duplicates = df_title[df_title.duplicated(subset=['Name'])]\n",
        "print(\"\\nDuplicate Titles:\")\n",
        "print(duplicates)"
      ]
    },
    {
      "cell_type": "code",
      "execution_count": 13,
      "metadata": {
        "colab": {
          "base_uri": "https://localhost:8080/",
          "height": 632
        },
        "id": "my83tMBSiPjW",
        "outputId": "e3d91864-9081-4962-c624-66158258dc05"
      },
      "outputs": [
        {
          "output_type": "stream",
          "name": "stdout",
          "text": [
            "\n",
            "Year Range:\n",
            "Oldest Movie Year: 1896.0\n",
            "Newest Movie Year: 2005.0\n"
          ]
        },
        {
          "output_type": "display_data",
          "data": {
            "text/plain": [
              "<Figure size 1000x600 with 1 Axes>"
            ],
            "image/png": "[encoded data removed]"
          },
          "metadata": {}
        }
      ],
      "source": [
        "import matplotlib.pyplot as plt\n",
        "import seaborn as sns\n",
        "\n",
        "# Year range\n",
        "print(\"\\nYear Range:\")\n",
        "print(f\"Oldest Movie Year: {df_title['Year'].min()}\")\n",
        "print(f\"Newest Movie Year: {df_title['Year'].max()}\")\n",
        "\n",
        "# Plot distribution of movies by year\n",
        "plt.figure(figsize=(10, 6))\n",
        "sns.histplot(df_title['Year'].dropna(), bins=30, kde=True)\n",
        "plt.title('Distribution of Movies by Year')\n",
        "plt.xlabel('Year')\n",
        "plt.ylabel('Number of Movies')\n",
        "plt.show()"
      ]
    },
    {
      "cell_type": "code",
      "execution_count": 14,
      "metadata": {
        "colab": {
          "base_uri": "https://localhost:8080/",
          "height": 768
        },
        "id": "z36YXD4xiSSG",
        "outputId": "3916e8c5-c9d4-4668-e59b-234bcaf81193"
      },
      "outputs": [
        {
          "output_type": "display_data",
          "data": {
            "text/plain": [
              "<Figure size 1000x600 with 1 Axes>"
            ],
            "image/png": "[encoded data removed]"
          },
          "metadata": {}
        },
        {
          "output_type": "stream",
          "name": "stdout",
          "text": [
            "\n",
            "Most Common Words in Titles:\n",
            "the: 6102\n",
            "of: 2149\n",
            "s: 1024\n",
            "a: 764\n",
            "and: 742\n",
            "in: 742\n",
            "season: 742\n",
            "2: 611\n",
            "1: 591\n",
            "to: 422\n"
          ]
        }
      ],
      "source": [
        "# Title length\n",
        "df_title['Title_Length'] = df_title['Name'].apply(lambda x: len(str(x)))\n",
        "\n",
        "# Plot title length distribution\n",
        "plt.figure(figsize=(10, 6))\n",
        "sns.histplot(df_title['Title_Length'], bins=30, kde=True)\n",
        "plt.title('Distribution of Movie Title Lengths')\n",
        "plt.xlabel('Title Length')\n",
        "plt.ylabel('Frequency')\n",
        "plt.show()\n",
        "\n",
        "# Most common words in titles\n",
        "from collections import Counter\n",
        "import re\n",
        "\n",
        "# Split titles into words and count occurrences\n",
        "title_words = ' '.join(df_title['Name'].dropna().values)\n",
        "title_words = re.findall(r'\\w+', title_words.lower())\n",
        "common_words = Counter(title_words).most_common(10)\n",
        "\n",
        "print(\"\\nMost Common Words in Titles:\")\n",
        "for word, count in common_words:\n",
        "    print(f\"{word}: {count}\")"
      ]
    },
    {
      "cell_type": "code",
      "execution_count": 15,
      "metadata": {
        "id": "7rLUXuPshcRE"
      },
      "outputs": [],
      "source": [
        "# Creating Dataframe with all movie id rows\n",
        "df_nan=pd.DataFrame(pd.isnull(df.Rating))\n",
        "df_nan = df_nan[df_nan['Rating']==True].reset_index()"
      ]
    },
    {
      "cell_type": "code",
      "execution_count": 16,
      "metadata": {
        "id": "G9n-3dsEheKX"
      },
      "outputs": [],
      "source": [
        "# Assigning the moveid to relevant index\n",
        "df['Movie_Id'] = 0\n",
        "for i in range(1,len(df_nan)):\n",
        "    prev_index = df_nan['index'].iloc[i-1]\n",
        "    curr_index = df_nan['index'].iloc[i]\n",
        "    df['Movie_Id'].iloc[prev_index:curr_index] = i\n",
        "   # print(i   ,prev_index,curr_index)"
      ]
    },
    {
      "cell_type": "code",
      "execution_count": 17,
      "metadata": {
        "id": "aLxsS9jchlrd"
      },
      "outputs": [],
      "source": [
        "# Removing the NaN rows as movie id is seperated\n",
        "df = df[pd.notnull(df['Rating'])]\n",
        "# Changing the column to int datatype\n",
        "df['Movie_Id'] = df['Movie_Id'].astype(int)\n",
        "df['Cust_Id'] = df['Cust_Id'].astype(int)"
      ]
    },
    {
      "cell_type": "code",
      "execution_count": 18,
      "metadata": {
        "colab": {
          "base_uri": "https://localhost:8080/"
        },
        "id": "CFy1E2GChyGH",
        "outputId": "67f3be04-ef07-4f51-fb66-8bb20f541753"
      },
      "outputs": [
        {
          "output_type": "stream",
          "name": "stdout",
          "text": [
            "The threshold value for Cust_Id: 79\n",
            "The threshold value for Movie_Id: 3884\n",
            "After Trim Shape: (13528427, 3)\n"
          ]
        }
      ],
      "source": [
        "# Define the aggregation functions\n",
        "agg_funcs = ['count', 'mean']\n",
        "\n",
        "# Initialize drop lists for customer and movie ids\n",
        "cust_drop_id, movie_drop_id = [], []\n",
        "\n",
        "# Loop through the relevant columns\n",
        "for col in ['Cust_Id', 'Movie_Id']:\n",
        "    # Group by the column and apply the aggregation\n",
        "    df_cnt = df.groupby(col)['Rating'].agg(agg_funcs)\n",
        "\n",
        "    # Calculate the threshold value for 80th percentile of 'count'\n",
        "    threshold_val = round(df_cnt['count'].quantile(0.8))\n",
        "\n",
        "    # Assign drop ids based on the threshold\n",
        "    drop_ids = df_cnt[df_cnt['count'] < threshold_val].index\n",
        "\n",
        "    # Store drop ids in the relevant variable\n",
        "    if col == 'Cust_Id':\n",
        "        cust_drop_id = drop_ids\n",
        "    else:\n",
        "        movie_drop_id = drop_ids\n",
        "\n",
        "    # Print the threshold value\n",
        "    print(f'The threshold value for {col}: {threshold_val}')\n",
        "\n",
        "# Remove the inactive records based on threshold values\n",
        "df = df[~df['Cust_Id'].isin(cust_drop_id) & ~df['Movie_Id'].isin(movie_drop_id)]\n",
        "\n",
        "# Optionally, print the shape after trimming\n",
        "print(f'After Trim Shape: {df.shape}')"
      ]
    },
    {
      "cell_type": "code",
      "execution_count": 19,
      "metadata": {
        "id": "9Ij7P57Lh3b2"
      },
      "outputs": [],
      "source": [
        "\n",
        "df = df[~df['Cust_Id'].isin(cust_drop_id)]\n",
        "df = df[~df['Movie_Id'].isin(movie_drop_id)]\n"
      ]
    },
    {
      "cell_type": "markdown",
      "metadata": {
        "id": "Fh-wy1UoiBMi"
      },
      "source": [
        "Building the Model\n"
      ]
    },
    {
      "cell_type": "code",
      "execution_count": 20,
      "metadata": {
        "colab": {
          "base_uri": "https://localhost:8080/"
        },
        "id": "rRGE90JqijYo",
        "outputId": "8e25d03e-90e0-428a-8070-9740a5e54810"
      },
      "outputs": [
        {
          "output_type": "stream",
          "name": "stdout",
          "text": [
            "Requirement already satisfied: scikit-surprise in /usr/local/lib/python3.10/dist-packages (1.1.4)\n",
            "Requirement already satisfied: joblib>=1.2.0 in /usr/local/lib/python3.10/dist-packages (from scikit-surprise) (1.4.2)\n",
            "Requirement already satisfied: numpy>=1.19.5 in /usr/local/lib/python3.10/dist-packages (from scikit-surprise) (1.26.4)\n",
            "Requirement already satisfied: scipy>=1.6.0 in /usr/local/lib/python3.10/dist-packages (from scikit-surprise) (1.13.1)\n"
          ]
        }
      ],
      "source": [
        "!pip install scikit-surprise\n",
        "from surprise import Reader, Dataset"
      ]
    },
    {
      "cell_type": "code",
      "execution_count": 21,
      "metadata": {
        "id": "baSV2M9viA4K"
      },
      "outputs": [],
      "source": [
        "# Reader to read the data\n",
        "reader = Reader()\n",
        "# Taking only 100000 for modeling\n",
        "data=Dataset.load_from_df(df[['Cust_Id','Movie_Id','Rating']][:10000], reader)"
      ]
    },
    {
      "cell_type": "code",
      "execution_count": 22,
      "metadata": {
        "colab": {
          "base_uri": "https://localhost:8080/"
        },
        "id": "4TkJwwdeim_j",
        "outputId": "1c70785b-95b7-4673-f0d6-9782396bac5b"
      },
      "outputs": [
        {
          "output_type": "stream",
          "name": "stdout",
          "text": [
            "Evaluating RMSE, MAE of algorithm SVD on 5 split(s).\n",
            "\n",
            "                  Fold 1  Fold 2  Fold 3  Fold 4  Fold 5  Mean    Std     \n",
            "RMSE (testset)    1.2053  1.2320  1.1928  1.2062  1.2024  1.2077  0.0130  \n",
            "MAE (testset)     0.9796  0.9979  0.9609  0.9754  0.9572  0.9742  0.0145  \n",
            "Fit time          0.36    0.20    0.16    0.16    0.17    0.21    0.08    \n",
            "Test time         0.01    0.01    0.01    0.01    0.01    0.01    0.00    \n"
          ]
        },
        {
          "output_type": "execute_result",
          "data": {
            "text/plain": [
              "{'test_rmse': array([1.20534507, 1.23198153, 1.19279515, 1.20616374, 1.20241101]),\n",
              " 'test_mae': array([0.9795764 , 0.99791924, 0.96091833, 0.97542303, 0.95720001]),\n",
              " 'fit_time': (0.360736608505249,\n",
              "  0.20276951789855957,\n",
              "  0.16362357139587402,\n",
              "  0.15939831733703613,\n",
              "  0.16825270652770996),\n",
              " 'test_time': (0.012633085250854492,\n",
              "  0.009465694427490234,\n",
              "  0.008872032165527344,\n",
              "  0.008763790130615234,\n",
              "  0.009317159652709961)}"
            ]
          },
          "metadata": {},
          "execution_count": 22
        }
      ],
      "source": [
        "# Initiate the Model\n",
        "model_svd = SVD()\n",
        "# Check Cross Validation\n",
        "cross_validate(model_svd,data, measures=['RMSE','MAE'],verbose=True)"
      ]
    },
    {
      "cell_type": "code",
      "execution_count": 23,
      "metadata": {
        "colab": {
          "base_uri": "https://localhost:8080/"
        },
        "id": "lYsEykKjjF-0",
        "outputId": "31c810be-2a47-497b-bb66-3d5451a3d419"
      },
      "outputs": [
        {
          "output_type": "stream",
          "name": "stdout",
          "text": [
            "          Movie_Id                         Name  Rating\n",
            "123185          30       Something's Gotta Give     5.0\n",
            "16487323      3192                Double Impact     5.0\n",
            "16451404      3174             Stealing Harvard     5.0\n",
            "16401522      3165      Dirty Rotten Scoundrels     5.0\n",
            "16249406      3151            Napoleon Dynamite     5.0\n",
            "16170318      3147   The Twilight Zone: Vol. 25     5.0\n",
            "16096852      3128                      Starman     5.0\n",
            "16061567      3113                 Dante's Peak     5.0\n",
            "15912120      3102              Damien: Omen II     5.0\n",
            "15891917      3098  Three Men and a Little Lady     5.0\n"
          ]
        }
      ],
      "source": [
        "# Filter the movies liked by user 785314 with rating 5\n",
        "df_user_1028463_liked = df[(df['Cust_Id'] == 1028463) & (df['Rating'] == 5)]\n",
        "\n",
        "# Merge the dataset with movie titles\n",
        "df_user_1028463_liked = df_user_1028463_liked.merge(df_title, left_on='Movie_Id', right_index=True)\n",
        "\n",
        "# Sort the movies by Movie_Id or Rating (if needed) and take the top 10\n",
        "df_user_1028463_liked_sorted = df_user_1028463_liked.sort_values(by='Rating', ascending=False).head(10)\n",
        "\n",
        "# Display the top 10 movies liked by the user\n",
        "print(df_user_1028463_liked_sorted[['Movie_Id', 'Name', 'Rating']])"
      ]
    },
    {
      "cell_type": "code",
      "execution_count": 24,
      "metadata": {
        "colab": {
          "base_uri": "https://localhost:8080/"
        },
        "id": "qEmJrrGjjKxS",
        "outputId": "08b1788b-7e7b-4d36-d31e-f91184bed14f"
      },
      "outputs": [
        {
          "output_type": "stream",
          "name": "stdout",
          "text": [
            "   Movie_Id    Year                        Name  Title_Length\n",
            "0         8  2004.0  What the #$*! Do We Know!?            26\n",
            "1        17  2005.0                   7 Seconds             9\n",
            "2        18  1994.0            Immortal Beloved            16\n",
            "3        26  2004.0             Never Die Alone            15\n",
            "4        28  2002.0             Lilo and Stitch            15\n"
          ]
        }
      ],
      "source": [
        "# Copy the movie titles dataframe and reset the index\n",
        "df_user_1028463_recomended = df_title[~df_title.index.isin(movie_drop_id)].reset_index()\n",
        "\n",
        "# Display the result\n",
        "print(df_user_1028463_recomended.head())"
      ]
    },
    {
      "cell_type": "code",
      "execution_count": 25,
      "metadata": {
        "id": "4hlHrp64jTyd"
      },
      "outputs": [],
      "source": [
        "full_data = Dataset.load_from_df(df[['Cust_Id','Movie_Id','Rating']],reader)"
      ]
    },
    {
      "cell_type": "code",
      "execution_count": 26,
      "metadata": {
        "colab": {
          "base_uri": "https://localhost:8080/"
        },
        "id": "b92vJxdBjUyI",
        "outputId": "ea09c993-c618-4d69-a87d-9f410a484c5f"
      },
      "outputs": [
        {
          "output_type": "execute_result",
          "data": {
            "text/plain": [
              "<surprise.prediction_algorithms.matrix_factorization.SVD at 0x7d240c9d5840>"
            ]
          },
          "metadata": {},
          "execution_count": 26
        }
      ],
      "source": [
        "train_data = full_data.build_full_trainset()\n",
        "model_svd.fit(train_data)"
      ]
    },
    {
      "cell_type": "code",
      "execution_count": 27,
      "metadata": {
        "id": "rS-rwbGOjad0"
      },
      "outputs": [],
      "source": [
        "# Create an empty list to store the predicted scores\n",
        "estimate_scores = []\n",
        "\n",
        "# Loop through each movie ID and predict the score\n",
        "for movie_id in df_user_1028463_recomended['Movie_Id']:\n",
        "    estimate_score = model_svd.predict(1028463, movie_id).est\n",
        "    estimate_scores.append(estimate_score)\n",
        "\n",
        "# Add the 'Estimate_score' column to the DataFrame\n",
        "df_user_1028463_recomended['Estimate_score'] = estimate_scores"
      ]
    },
    {
      "cell_type": "code",
      "execution_count": 28,
      "metadata": {
        "colab": {
          "base_uri": "https://localhost:8080/",
          "height": 419
        },
        "id": "0YPB0d0LjgTn",
        "outputId": "3697fc90-43b1-451b-9e37-5b1d284074a3"
      },
      "outputs": [
        {
          "output_type": "execute_result",
          "data": {
            "text/plain": [
              "     Movie_Id    Year                                       Name  \\\n",
              "17        118  1985.0                 Rambo: First Blood Part II   \n",
              "356      1798  1987.0                              Lethal Weapon   \n",
              "301      1558  1990.0                                    Rocky V   \n",
              "727      3610  1992.0                            Lethal Weapon 3   \n",
              "795      3938  2004.0                                    Shrek 2   \n",
              "..        ...     ...                                        ...   \n",
              "561      2813  2004.0                              Bad Education   \n",
              "115       554  1972.0                                    Solaris   \n",
              "847      4237  2002.0                             Morvern Callar   \n",
              "41        248  2001.0  Michael Moore's The Awful Truth: Season 2   \n",
              "216      1075  2001.0                                       Tape   \n",
              "\n",
              "     Title_Length  Estimate_score  \n",
              "17             26        5.000000  \n",
              "356            13        5.000000  \n",
              "301             7        5.000000  \n",
              "727            15        5.000000  \n",
              "795             7        5.000000  \n",
              "..            ...             ...  \n",
              "561            13        1.084928  \n",
              "115             7        1.009554  \n",
              "847            14        1.000000  \n",
              "41             41        1.000000  \n",
              "216             4        1.000000  \n",
              "\n",
              "[14172 rows x 5 columns]"
            ],
            "text/html": [
              "\n",
              "  <div id=\"df-dc5c8012-d02c-4f14-b4ad-58b5fa6933fd\" class=\"colab-df-container\">\n",
              "    <div>\n",
              "<style scoped>\n",
              "    .dataframe tbody tr th:only-of-type {\n",
              "        vertical-align: middle;\n",
              "    }\n",
              "\n",
              "    .dataframe tbody tr th {\n",
              "        vertical-align: top;\n",
              "    }\n",
              "\n",
              "    .dataframe thead th {\n",
              "        text-align: right;\n",
              "    }\n",
              "</style>\n",
              "<table border=\"1\" class=\"dataframe\">\n",
              "  <thead>\n",
              "    <tr style=\"text-align: right;\">\n",
              "      <th></th>\n",
              "      <th>Movie_Id</th>\n",
              "      <th>Year</th>\n",
              "      <th>Name</th>\n",
              "      <th>Title_Length</th>\n",
              "      <th>Estimate_score</th>\n",
              "    </tr>\n",
              "  </thead>\n",
              "  <tbody>\n",
              "    <tr>\n",
              "      <th>17</th>\n",
              "      <td>118</td>\n",
              "      <td>1985.0</td>\n",
              "      <td>Rambo: First Blood Part II</td>\n",
              "      <td>26</td>\n",
              "      <td>5.000000</td>\n",
              "    </tr>\n",
              "    <tr>\n",
              "      <th>356</th>\n",
              "      <td>1798</td>\n",
              "      <td>1987.0</td>\n",
              "      <td>Lethal Weapon</td>\n",
              "      <td>13</td>\n",
              "      <td>5.000000</td>\n",
              "    </tr>\n",
              "    <tr>\n",
              "      <th>301</th>\n",
              "      <td>1558</td>\n",
              "      <td>1990.0</td>\n",
              "      <td>Rocky V</td>\n",
              "      <td>7</td>\n",
              "      <td>5.000000</td>\n",
              "    </tr>\n",
              "    <tr>\n",
              "      <th>727</th>\n",
              "      <td>3610</td>\n",
              "      <td>1992.0</td>\n",
              "      <td>Lethal Weapon 3</td>\n",
              "      <td>15</td>\n",
              "      <td>5.000000</td>\n",
              "    </tr>\n",
              "    <tr>\n",
              "      <th>795</th>\n",
              "      <td>3938</td>\n",
              "      <td>2004.0</td>\n",
              "      <td>Shrek 2</td>\n",
              "      <td>7</td>\n",
              "      <td>5.000000</td>\n",
              "    </tr>\n",
              "    <tr>\n",
              "      <th>...</th>\n",
              "      <td>...</td>\n",
              "      <td>...</td>\n",
              "      <td>...</td>\n",
              "      <td>...</td>\n",
              "      <td>...</td>\n",
              "    </tr>\n",
              "    <tr>\n",
              "      <th>561</th>\n",
              "      <td>2813</td>\n",
              "      <td>2004.0</td>\n",
              "      <td>Bad Education</td>\n",
              "      <td>13</td>\n",
              "      <td>1.084928</td>\n",
              "    </tr>\n",
              "    <tr>\n",
              "      <th>115</th>\n",
              "      <td>554</td>\n",
              "      <td>1972.0</td>\n",
              "      <td>Solaris</td>\n",
              "      <td>7</td>\n",
              "      <td>1.009554</td>\n",
              "    </tr>\n",
              "    <tr>\n",
              "      <th>847</th>\n",
              "      <td>4237</td>\n",
              "      <td>2002.0</td>\n",
              "      <td>Morvern Callar</td>\n",
              "      <td>14</td>\n",
              "      <td>1.000000</td>\n",
              "    </tr>\n",
              "    <tr>\n",
              "      <th>41</th>\n",
              "      <td>248</td>\n",
              "      <td>2001.0</td>\n",
              "      <td>Michael Moore's The Awful Truth: Season 2</td>\n",
              "      <td>41</td>\n",
              "      <td>1.000000</td>\n",
              "    </tr>\n",
              "    <tr>\n",
              "      <th>216</th>\n",
              "      <td>1075</td>\n",
              "      <td>2001.0</td>\n",
              "      <td>Tape</td>\n",
              "      <td>4</td>\n",
              "      <td>1.000000</td>\n",
              "    </tr>\n",
              "  </tbody>\n",
              "</table>\n",
              "<p>14172 rows × 5 columns</p>\n",
              "</div>\n",
              "    <div class=\"colab-df-buttons\">\n",
              "\n",
              "  <div class=\"colab-df-container\">\n",
              "    <button class=\"colab-df-convert\" onclick=\"convertToInteractive('df-dc5c8012-d02c-4f14-b4ad-58b5fa6933fd')\"\n",
              "            title=\"Convert this dataframe to an interactive table.\"\n",
              "            style=\"display:none;\">\n",
              "\n",
              "  <svg xmlns=\"http://www.w3.org/2000/svg\" height=\"24px\" viewBox=\"0 -960 960 960\">\n",
              "    <path d=\"M120-120v-720h720v720H120Zm60-500h600v-160H180v160Zm220 220h160v-160H400v160Zm0 220h160v-160H400v160ZM180-400h160v-160H180v160Zm440 0h160v-160H620v160ZM180-180h160v-160H180v160Zm440 0h160v-160H620v160Z\"/>\n",
              "  </svg>\n",
              "    </button>\n",
              "\n",
              "  <style>\n",
              "    .colab-df-container {\n",
              "      display:flex;\n",
              "      gap: 12px;\n",
              "    }\n",
              "\n",
              "    .colab-df-convert {\n",
              "      background-color: #E8F0FE;\n",
              "      border: none;\n",
              "      border-radius: 50%;\n",
              "      cursor: pointer;\n",
              "      display: none;\n",
              "      fill: #1967D2;\n",
              "      height: 32px;\n",
              "      padding: 0 0 0 0;\n",
              "      width: 32px;\n",
              "    }\n",
              "\n",
              "    .colab-df-convert:hover {\n",
              "      background-color: #E2EBFA;\n",
              "      box-shadow: 0px 1px 2px rgba(60, 64, 67, 0.3), 0px 1px 3px 1px rgba(60, 64, 67, 0.15);\n",
              "      fill: #174EA6;\n",
              "    }\n",
              "\n",
              "    .colab-df-buttons div {\n",
              "      margin-bottom: 4px;\n",
              "    }\n",
              "\n",
              "    [theme=dark] .colab-df-convert {\n",
              "      background-color: #3B4455;\n",
              "      fill: #D2E3FC;\n",
              "    }\n",
              "\n",
              "    [theme=dark] .colab-df-convert:hover {\n",
              "      background-color: #434B5C;\n",
              "      box-shadow: 0px 1px 3px 1px rgba(0, 0, 0, 0.15);\n",
              "      filter: drop-shadow(0px 1px 2px rgba(0, 0, 0, 0.3));\n",
              "      fill: #FFFFFF;\n",
              "    }\n",
              "  </style>\n",
              "\n",
              "    <script>\n",
              "      const buttonEl =\n",
              "        document.querySelector('#df-dc5c8012-d02c-4f14-b4ad-58b5fa6933fd button.colab-df-convert');\n",
              "      buttonEl.style.display =\n",
              "        google.colab.kernel.accessAllowed ? 'block' : 'none';\n",
              "\n",
              "      async function convertToInteractive(key) {\n",
              "        const element = document.querySelector('#df-dc5c8012-d02c-4f14-b4ad-58b5fa6933fd');\n",
              "        const dataTable =\n",
              "          await google.colab.kernel.invokeFunction('convertToInteractive',\n",
              "                                                    [key], {});\n",
              "        if (!dataTable) return;\n",
              "\n",
              "        const docLinkHtml = 'Like what you see? Visit the ' +\n",
              "          '<a target=\"_blank\" href=https://colab.research.google.com/notebooks/data_table.ipynb>data table notebook</a>'\n",
              "          + ' to learn more about interactive tables.';\n",
              "        element.innerHTML = '';\n",
              "        dataTable['output_type'] = 'display_data';\n",
              "        await google.colab.output.renderOutput(dataTable, element);\n",
              "        const docLink = document.createElement('div');\n",
              "        docLink.innerHTML = docLinkHtml;\n",
              "        element.appendChild(docLink);\n",
              "      }\n",
              "    </script>\n",
              "  </div>\n",
              "\n",
              "\n",
              "<div id=\"df-d5eb31a6-eddf-4a83-b15f-091c6e85191e\">\n",
              "  <button class=\"colab-df-quickchart\" onclick=\"quickchart('df-d5eb31a6-eddf-4a83-b15f-091c6e85191e')\"\n",
              "            title=\"Suggest charts\"\n",
              "            style=\"display:none;\">\n",
              "\n",
              "<svg xmlns=\"http://www.w3.org/2000/svg\" height=\"24px\"viewBox=\"0 0 24 24\"\n",
              "     width=\"24px\">\n",
              "    <g>\n",
              "        <path d=\"M19 3H5c-1.1 0-2 .9-2 2v14c0 1.1.9 2 2 2h14c1.1 0 2-.9 2-2V5c0-1.1-.9-2-2-2zM9 17H7v-7h2v7zm4 0h-2V7h2v10zm4 0h-2v-4h2v4z\"/>\n",
              "    </g>\n",
              "</svg>\n",
              "  </button>\n",
              "\n",
              "<style>\n",
              "  .colab-df-quickchart {\n",
              "      --bg-color: #E8F0FE;\n",
              "      --fill-color: #1967D2;\n",
              "      --hover-bg-color: #E2EBFA;\n",
              "      --hover-fill-color: #174EA6;\n",
              "      --disabled-fill-color: #AAA;\n",
              "      --disabled-bg-color: #DDD;\n",
              "  }\n",
              "\n",
              "  [theme=dark] .colab-df-quickchart {\n",
              "      --bg-color: #3B4455;\n",
              "      --fill-color: #D2E3FC;\n",
              "      --hover-bg-color: #434B5C;\n",
              "      --hover-fill-color: #FFFFFF;\n",
              "      --disabled-bg-color: #3B4455;\n",
              "      --disabled-fill-color: #666;\n",
              "  }\n",
              "\n",
              "  .colab-df-quickchart {\n",
              "    background-color: var(--bg-color);\n",
              "    border: none;\n",
              "    border-radius: 50%;\n",
              "    cursor: pointer;\n",
              "    display: none;\n",
              "    fill: var(--fill-color);\n",
              "    height: 32px;\n",
              "    padding: 0;\n",
              "    width: 32px;\n",
              "  }\n",
              "\n",
              "  .colab-df-quickchart:hover {\n",
              "    background-color: var(--hover-bg-color);\n",
              "    box-shadow: 0 1px 2px rgba(60, 64, 67, 0.3), 0 1px 3px 1px rgba(60, 64, 67, 0.15);\n",
              "    fill: var(--button-hover-fill-color);\n",
              "  }\n",
              "\n",
              "  .colab-df-quickchart-complete:disabled,\n",
              "  .colab-df-quickchart-complete:disabled:hover {\n",
              "    background-color: var(--disabled-bg-color);\n",
              "    fill: var(--disabled-fill-color);\n",
              "    box-shadow: none;\n",
              "  }\n",
              "\n",
              "  .colab-df-spinner {\n",
              "    border: 2px solid var(--fill-color);\n",
              "    border-color: transparent;\n",
              "    border-bottom-color: var(--fill-color);\n",
              "    animation:\n",
              "      spin 1s steps(1) infinite;\n",
              "  }\n",
              "\n",
              "  @keyframes spin {\n",
              "    0% {\n",
              "      border-color: transparent;\n",
              "      border-bottom-color: var(--fill-color);\n",
              "      border-left-color: var(--fill-color);\n",
              "    }\n",
              "    20% {\n",
              "      border-color: transparent;\n",
              "      border-left-color: var(--fill-color);\n",
              "      border-top-color: var(--fill-color);\n",
              "    }\n",
              "    30% {\n",
              "      border-color: transparent;\n",
              "      border-left-color: var(--fill-color);\n",
              "      border-top-color: var(--fill-color);\n",
              "      border-right-color: var(--fill-color);\n",
              "    }\n",
              "    40% {\n",
              "      border-color: transparent;\n",
              "      border-right-color: var(--fill-color);\n",
              "      border-top-color: var(--fill-color);\n",
              "    }\n",
              "    60% {\n",
              "      border-color: transparent;\n",
              "      border-right-color: var(--fill-color);\n",
              "    }\n",
              "    80% {\n",
              "      border-color: transparent;\n",
              "      border-right-color: var(--fill-color);\n",
              "      border-bottom-color: var(--fill-color);\n",
              "    }\n",
              "    90% {\n",
              "      border-color: transparent;\n",
              "      border-bottom-color: var(--fill-color);\n",
              "    }\n",
              "  }\n",
              "</style>\n",
              "\n",
              "  <script>\n",
              "    async function quickchart(key) {\n",
              "      const quickchartButtonEl =\n",
              "        document.querySelector('#' + key + ' button');\n",
              "      quickchartButtonEl.disabled = true;  // To prevent multiple clicks.\n",
              "      quickchartButtonEl.classList.add('colab-df-spinner');\n",
              "      try {\n",
              "        const charts = await google.colab.kernel.invokeFunction(\n",
              "            'suggestCharts', [key], {});\n",
              "      } catch (error) {\n",
              "        console.error('Error during call to suggestCharts:', error);\n",
              "      }\n",
              "      quickchartButtonEl.classList.remove('colab-df-spinner');\n",
              "      quickchartButtonEl.classList.add('colab-df-quickchart-complete');\n",
              "    }\n",
              "    (() => {\n",
              "      let quickchartButtonEl =\n",
              "        document.querySelector('#df-d5eb31a6-eddf-4a83-b15f-091c6e85191e button');\n",
              "      quickchartButtonEl.style.display =\n",
              "        google.colab.kernel.accessAllowed ? 'block' : 'none';\n",
              "    })();\n",
              "  </script>\n",
              "</div>\n",
              "\n",
              "    </div>\n",
              "  </div>\n"
            ],
            "application/vnd.google.colaboratory.intrinsic+json": {
              "type": "dataframe",
              "summary": "{\n  \"name\": \"df_user_1028463_recomended\",\n  \"rows\": 14172,\n  \"fields\": [\n    {\n      \"column\": \"Movie_Id\",\n      \"properties\": {\n        \"dtype\": \"number\",\n        \"std\": 4306,\n        \"min\": 8,\n        \"max\": 17770,\n        \"num_unique_values\": 14172,\n        \"samples\": [\n          11867,\n          8973,\n          4900\n        ],\n        \"semantic_type\": \"\",\n        \"description\": \"\"\n      }\n    },\n    {\n      \"column\": \"Year\",\n      \"properties\": {\n        \"dtype\": \"number\",\n        \"std\": 16.328143788253488,\n        \"min\": 1896.0,\n        \"max\": 2005.0,\n        \"num_unique_values\": 93,\n        \"samples\": [\n          1934.0,\n          1978.0,\n          1936.0\n        ],\n        \"semantic_type\": \"\",\n        \"description\": \"\"\n      }\n    },\n    {\n      \"column\": \"Name\",\n      \"properties\": {\n        \"dtype\": \"string\",\n        \"num_unique_values\": 13843,\n        \"samples\": [\n          \"The White River Kid\",\n          \"Year of the Dragon\",\n          \"Sherlock Holmes: The Woman in Green\"\n        ],\n        \"semantic_type\": \"\",\n        \"description\": \"\"\n      }\n    },\n    {\n      \"column\": \"Title_Length\",\n      \"properties\": {\n        \"dtype\": \"number\",\n        \"std\": 12,\n        \"min\": 1,\n        \"max\": 108,\n        \"num_unique_values\": 86,\n        \"samples\": [\n          83,\n          26,\n          66\n        ],\n        \"semantic_type\": \"\",\n        \"description\": \"\"\n      }\n    },\n    {\n      \"column\": \"Estimate_score\",\n      \"properties\": {\n        \"dtype\": \"number\",\n        \"std\": 0.262674932415604,\n        \"min\": 1.0,\n        \"max\": 5.0,\n        \"num_unique_values\": 869,\n        \"samples\": [\n          3.6531934734038796,\n          4.62573044235557,\n          3.2655897616954697\n        ],\n        \"semantic_type\": \"\",\n        \"description\": \"\"\n      }\n    }\n  ]\n}"
            }
          },
          "metadata": {},
          "execution_count": 28
        }
      ],
      "source": [
        "df_user_1028463_recomended.sort_values('Estimate_score', ascending=False)"
      ]
    }
  ],
  "metadata": {
    "colab": {
      "provenance": []
    },
    "kernelspec": {
      "display_name": "Python 3",
      "name": "python3"
    },
    "language_info": {
      "name": "python"
    }
  },
  "nbformat": 4,
  "nbformat_minor": 0
}